{
  "nbformat": 4,
  "nbformat_minor": 0,
  "metadata": {
    "colab": {
      "provenance": []
    },
    "kernelspec": {
      "name": "python3",
      "display_name": "Python 3"
    },
    "language_info": {
      "name": "python"
    }
  },
  "cells": [
    {
      "cell_type": "code",
      "execution_count": 1,
      "metadata": {
        "id": "URYEFqkAhP1n"
      },
      "outputs": [],
      "source": [
        "import psycopg2\n",
        "import pandas as pd\n",
        "import numpy as np\n",
        "from sklearn.preprocessing import MinMaxScaler\n",
        "import statsmodels.api as sm\n",
        "from sklearn.linear_model import LinearRegression\n",
        "from sklearn.svm import SVR\n",
        "from sklearn.ensemble import RandomForestRegressor\n",
        "from xgboost import XGBRegressor\n",
        "from sklearn.metrics import mean_squared_error, mean_absolute_error, r2_score\n",
        "from sklearn.feature_selection import RFE\n",
        "import configparser\n",
        "import warnings\n",
        "warnings.filterwarnings('ignore')"
      ]
    },
    {
      "cell_type": "code",
      "source": [
        "def fetch_data():\n",
        "    config = configparser.ConfigParser()\n",
        "    config.read('db_config.ini')\n",
        "\n",
        "    host = config['database']['host']\n",
        "    port = config['database'].getint('port')\n",
        "    user = config['database']['user']\n",
        "    password = config['database']['password']\n",
        "    database = config['database']['database']\n",
        "\n",
        "    connection = psycopg2.connect(\n",
        "        host=host,\n",
        "        port=port,\n",
        "        user=user,\n",
        "        password=password,\n",
        "        database=database\n",
        "    )\n",
        "\n",
        "    df1 = pd.read_sql('SELECT * FROM turbofan_engine_data', con=connection)\n",
        "    df2 = pd.read_sql('SELECT * FROM turbofan_rul_data', con=connection)\n",
        "\n",
        "    connection.close()\n",
        "\n",
        "    return df1, df2"
      ],
      "metadata": {
        "id": "nNPvD2e2hVYy"
      },
      "execution_count": 2,
      "outputs": []
    },
    {
      "cell_type": "code",
      "source": [
        "df1, df2 = fetch_data()"
      ],
      "metadata": {
        "id": "fQbpB1KVhaFv"
      },
      "execution_count": 3,
      "outputs": []
    },
    {
      "cell_type": "code",
      "source": [
        "def clean_data(df):\n",
        "    # Handling missing values\n",
        "    na_counts_before = df.isna().sum()\n",
        "    if na_counts_before.sum() > 0:\n",
        "        print(f\"Rows with missing values before: {na_counts_before.sum()}\")\n",
        "        df = df.dropna(axis=0)\n",
        "        na_counts_after = df.isna().sum()\n",
        "        print(f\"Rows with missing values after: {na_counts_after.sum()}\")\n",
        "    else:\n",
        "        print(\"No missing values found. Proceeding with the original DataFrame.\")\n",
        "\n",
        "    # Handling duplicates\n",
        "    duplicates_before = df[df.duplicated(keep='first')]\n",
        "    if len(duplicates_before) > 0:\n",
        "        print(f\"Duplicates before: {len(duplicates_before)}\")\n",
        "        df = df.drop_duplicates(keep='first')\n",
        "        duplicates_after = df[df.duplicated(keep='first')]\n",
        "        print(f\"Duplicates after: {len(duplicates_after)}\")\n",
        "    else:\n",
        "        print(\"No duplicate rows found. Proceeding with the original DataFrame.\")\n",
        "\n",
        "    return df"
      ],
      "metadata": {
        "id": "JJ9ljFOyhcb7"
      },
      "execution_count": 4,
      "outputs": []
    },
    {
      "cell_type": "code",
      "source": [
        "df1 = clean_data(df1)\n",
        "df2 = clean_data(df2)"
      ],
      "metadata": {
        "colab": {
          "base_uri": "https://localhost:8080/"
        },
        "id": "l3Ui6ohhhfmf",
        "outputId": "17090098-2f27-4a46-e1e2-89bf3a2897f1"
      },
      "execution_count": 5,
      "outputs": [
        {
          "output_type": "stream",
          "name": "stdout",
          "text": [
            "No missing values found. Proceeding with the original DataFrame.\n",
            "No duplicate rows found. Proceeding with the original DataFrame.\n",
            "No missing values found. Proceeding with the original DataFrame.\n",
            "No duplicate rows found. Proceeding with the original DataFrame.\n"
          ]
        }
      ]
    },
    {
      "cell_type": "code",
      "source": [
        "train_df = df1[df1[\"source\"] == 0].copy()\n",
        "test_df = df1[df1[\"source\"] == 1].copy()"
      ],
      "metadata": {
        "id": "YNTcWuGrhhkc"
      },
      "execution_count": 6,
      "outputs": []
    },
    {
      "cell_type": "markdown",
      "source": [
        "# **Deriving RUL Column**"
      ],
      "metadata": {
        "id": "a508pCsXhkFB"
      }
    },
    {
      "cell_type": "code",
      "source": [
        "def add_rul_train(df):\n",
        "    max_cycles_train = df.groupby('engine')['cycle'].max().reset_index()\n",
        "    max_cycles_train.columns = ['engine', 'max_cycle_train']\n",
        "    df = df.merge(max_cycles_train, on='engine', how='left')\n",
        "    df['RUL'] = df['max_cycle_train'] - df['cycle']\n",
        "    df.drop(['max_cycle_train'], axis=1, inplace=True)\n",
        "    return df"
      ],
      "metadata": {
        "id": "7fyLRr3HhlNZ"
      },
      "execution_count": 7,
      "outputs": []
    },
    {
      "cell_type": "code",
      "source": [
        "def add_rul_test(df, external_rul_df):\n",
        "    df = df.merge(external_rul_df[['engine', 'RUL']], on='engine', how='left')\n",
        "    return df"
      ],
      "metadata": {
        "id": "mkZtMF3Dhm4P"
      },
      "execution_count": 8,
      "outputs": []
    },
    {
      "cell_type": "code",
      "source": [
        "train_df_with_rul = add_rul_train(train_df)\n",
        "test_df_with_rul = add_rul_test(test_df, df2)"
      ],
      "metadata": {
        "id": "qjspDMc_ho72"
      },
      "execution_count": 9,
      "outputs": []
    },
    {
      "cell_type": "code",
      "source": [
        "test_last_cycle = test_df_with_rul.groupby('engine')['cycle'].idxmax()\n",
        "test_last_cycle_df = test_df_with_rul.loc[test_last_cycle]"
      ],
      "metadata": {
        "id": "smvPMGtChsPY"
      },
      "execution_count": 10,
      "outputs": []
    },
    {
      "cell_type": "markdown",
      "source": [
        "# **Performing Recursive Feature Elimination (RFE)**"
      ],
      "metadata": {
        "id": "4as_KViAhwYV"
      }
    },
    {
      "cell_type": "code",
      "source": [
        "X = train_df_with_rul.drop(['RUL','index','engine','cycle','source'], axis=1)\n",
        "y = train_df_with_rul['RUL']\n",
        "\n",
        "lr = LinearRegression()\n",
        "rfe = RFE(estimator=lr, n_features_to_select=15)\n",
        "rfe = rfe.fit(X, y)\n",
        "\n",
        "selected_features = X.columns[rfe.support_]\n",
        "print(f\"Selected features: {selected_features}\")"
      ],
      "metadata": {
        "colab": {
          "base_uri": "https://localhost:8080/"
        },
        "id": "UJTfifFshzww",
        "outputId": "be4e0ef5-6836-4957-9b17-5f5befb7c1c4"
      },
      "execution_count": 11,
      "outputs": [
        {
          "output_type": "stream",
          "name": "stdout",
          "text": [
            "Selected features: Index(['LPC_outlet_temperature (T24)', 'fan_inlet_pressure (P2)',\n",
            "       'bypass_duct_pressure (P15)', 'HPC_outlet_static_pressure (Ps30)',\n",
            "       'mach_number (mach)', 'throttle_resolver_angle (TRA)',\n",
            "       'fan_inlet_temperature (T2)', 'engine_pressure_ratio (epr)',\n",
            "       'corrected_fan_speed (NRf)', 'bypass_ratio (BPR)',\n",
            "       'burner_fuel_air_ratio (farB)', 'demanded_fan_speed (Nf_dmd)',\n",
            "       'demanded_corrected_fan_speed (PCNfR_dmd)', 'HPT_coolant_bleed (W31)',\n",
            "       'LPT_coolant_bleed (W32)'],\n",
            "      dtype='object')\n"
          ]
        }
      ]
    },
    {
      "cell_type": "code",
      "source": [
        "X_train = train_df_with_rul[selected_features]\n",
        "y_train = train_df_with_rul['RUL']"
      ],
      "metadata": {
        "id": "4d6RbRdJia0Q"
      },
      "execution_count": 12,
      "outputs": []
    },
    {
      "cell_type": "code",
      "source": [
        "X_test = test_last_cycle_df[selected_features]\n",
        "y_test = test_last_cycle_df['RUL']"
      ],
      "metadata": {
        "id": "YDPAbH5CihcV"
      },
      "execution_count": 13,
      "outputs": []
    },
    {
      "cell_type": "code",
      "source": [
        "scaler = MinMaxScaler()\n",
        "\n",
        "X_train_scaled = scaler.fit_transform(X_train)\n",
        "X_test_scaled = scaler.transform(X_test)"
      ],
      "metadata": {
        "id": "x3Of1-AiigfK"
      },
      "execution_count": 14,
      "outputs": []
    },
    {
      "cell_type": "code",
      "source": [
        "def evaluate_model(model, X, y):\n",
        "    y_pred = model.predict(X)\n",
        "    rmse = int(np.sqrt(mean_squared_error(y, y_pred)))\n",
        "    mae = int(mean_absolute_error(y, y_pred))\n",
        "    r2 = r2_score(y, y_pred)\n",
        "    return rmse, mae, round(r2, 4)"
      ],
      "metadata": {
        "id": "SCU9pHMyimZz"
      },
      "execution_count": 15,
      "outputs": []
    },
    {
      "cell_type": "markdown",
      "source": [
        "# **Model Training**"
      ],
      "metadata": {
        "id": "bI-_QN9E0UC-"
      }
    },
    {
      "cell_type": "code",
      "source": [
        "model_lr = LinearRegression()\n",
        "model_lr.fit(X_train_scaled, y_train)\n",
        "\n",
        "train_rmse, train_mae, train_r2 = evaluate_model(model_lr, X_train_scaled, y_train)\n",
        "print(f'Train RMSE: {train_rmse}, Train MAE: {train_mae}, Train R²: {train_r2}')\n",
        "\n",
        "test_rmse, test_mae, test_r2 = evaluate_model(model_lr, X_test_scaled, y_test)\n",
        "print(f'Test RMSE: {test_rmse}, Test MAE: {test_mae}, Test R²: {test_r2}')"
      ],
      "metadata": {
        "colab": {
          "base_uri": "https://localhost:8080/"
        },
        "id": "ZtNbwBr3r7cx",
        "outputId": "149ea139-d2e5-4884-bd1b-6b2172352ce9"
      },
      "execution_count": 16,
      "outputs": [
        {
          "output_type": "stream",
          "name": "stdout",
          "text": [
            "Train RMSE: 46, Train MAE: 35, Train R²: 0.5517\n",
            "Test RMSE: 33, Test MAE: 27, Test R²: 0.6062\n"
          ]
        }
      ]
    },
    {
      "cell_type": "code",
      "source": [
        "model_svr = SVR()\n",
        "model_svr.fit(X_train_scaled, y_train)\n",
        "\n",
        "train_rmse, train_mae, train_r2 = evaluate_model(model_svr, X_train_scaled, y_train)\n",
        "print(f'Train RMSE: {train_rmse}, Train MAE: {train_mae}, Train R²: {train_r2}')\n",
        "\n",
        "test_rmse, test_mae, test_r2 = evaluate_model(model_svr, X_test_scaled, y_test)\n",
        "print(f'Test RMSE: {test_rmse}, Test MAE: {test_mae}, Test R²: {test_r2}')"
      ],
      "metadata": {
        "id": "x9e2ium4Rd2a",
        "colab": {
          "base_uri": "https://localhost:8080/"
        },
        "outputId": "5bc3528c-aa6a-4fac-9c3b-e47d54e2c9a1"
      },
      "execution_count": 17,
      "outputs": [
        {
          "output_type": "stream",
          "name": "stdout",
          "text": [
            "Train RMSE: 64, Train MAE: 51, Train R²: 0.1362\n",
            "Test RMSE: 51, Test MAE: 42, Test R²: 0.0902\n"
          ]
        }
      ]
    },
    {
      "cell_type": "code",
      "source": [
        "model_rf = RandomForestRegressor(random_state=42)\n",
        "model_rf.fit(X_train_scaled, y_train)\n",
        "\n",
        "train_rmse_rf, train_mae_rf, train_r2_rf = evaluate_model(model_rf, X_train_scaled, y_train)\n",
        "print(f'Train RMSE (RF): {train_rmse_rf}, Train MAE (RF): {train_mae_rf}, Train R² (RF): {train_r2_rf}')\n",
        "\n",
        "test_rmse_rf, test_mae_rf, test_r2_rf = evaluate_model(model_rf, X_test_scaled, y_test)\n",
        "print(f'Test RMSE (RF): {test_rmse_rf}, Test MAE (RF): {test_mae_rf}, Test R² (RF): {test_r2_rf}')\n"
      ],
      "metadata": {
        "id": "AGuZ0XSYsVfa",
        "colab": {
          "base_uri": "https://localhost:8080/"
        },
        "outputId": "1c04fd46-e8ec-4c53-a892-91e47f33c2e5"
      },
      "execution_count": 18,
      "outputs": [
        {
          "output_type": "stream",
          "name": "stdout",
          "text": [
            "Train RMSE (RF): 17, Train MAE (RF): 12, Train R² (RF): 0.9387\n",
            "Test RMSE (RF): 33, Test MAE (RF): 24, Test R² (RF): 0.6149\n"
          ]
        }
      ]
    },
    {
      "cell_type": "code",
      "source": [
        "model_xgb = XGBRegressor(random_state=42)\n",
        "model_xgb.fit(X_train_scaled, y_train)\n",
        "\n",
        "train_rmse_xgb, train_mae_xgb, train_r2_xgb = evaluate_model(model_xgb, X_train_scaled, y_train)\n",
        "print(f'Train RMSE (XGB): {train_rmse_xgb}, Train MAE (XGB): {train_mae_xgb}, Train R² (XGB): {train_r2_xgb}')\n",
        "\n",
        "test_rmse_xgb, test_mae_xgb, test_r2_xgb = evaluate_model(model_xgb, X_test_scaled, y_test)\n",
        "print(f'Test RMSE (XGB): {test_rmse_xgb}, Test MAE (XGB): {test_mae_xgb}, Test R² (XGB): {test_r2_xgb}')"
      ],
      "metadata": {
        "id": "kYl4vNHrtbNR",
        "colab": {
          "base_uri": "https://localhost:8080/"
        },
        "outputId": "4cee4d22-c684-4d24-9811-ae8eec7e0a55"
      },
      "execution_count": 19,
      "outputs": [
        {
          "output_type": "stream",
          "name": "stdout",
          "text": [
            "Train RMSE (XGB): 40, Train MAE (XGB): 29, Train R² (XGB): 0.6622\n",
            "Test RMSE (XGB): 31, Test MAE (XGB): 23, Test R² (XGB): 0.6608\n"
          ]
        }
      ]
    }
  ]
}