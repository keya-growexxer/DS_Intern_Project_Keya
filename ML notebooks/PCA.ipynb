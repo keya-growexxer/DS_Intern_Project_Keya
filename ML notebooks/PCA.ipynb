{
  "cells": [
    {
      "cell_type": "code",
      "execution_count": 1,
      "metadata": {
        "id": "OaU_EvSCokyR"
      },
      "outputs": [],
      "source": [
        "import psycopg2\n",
        "import pandas as pd\n",
        "import numpy as np\n",
        "from sklearn.preprocessing import MinMaxScaler\n",
        "from sklearn.linear_model import LinearRegression\n",
        "from sklearn.svm import SVR\n",
        "from sklearn.ensemble import RandomForestRegressor\n",
        "from xgboost import XGBRegressor\n",
        "from sklearn.metrics import mean_squared_error, mean_absolute_error, r2_score\n",
        "import configparser\n",
        "import warnings\n",
        "warnings.filterwarnings('ignore')\n",
        "import matplotlib.pyplot as plt\n",
        "from sklearn.decomposition import PCA"
      ]
    },
    {
      "cell_type": "code",
      "execution_count": 2,
      "metadata": {
        "id": "RQXxsRm_orw4"
      },
      "outputs": [],
      "source": [
        "def fetch_data():\n",
        "    config = configparser.ConfigParser()\n",
        "    config.read('db_config.ini')\n",
        "\n",
        "    host = config['database']['host']\n",
        "    port = config['database'].getint('port')\n",
        "    user = config['database']['user']\n",
        "    password = config['database']['password']\n",
        "    database = config['database']['database']\n",
        "\n",
        "    connection = psycopg2.connect(\n",
        "        host=host,\n",
        "        port=port,\n",
        "        user=user,\n",
        "        password=password,\n",
        "        database=database\n",
        "    )\n",
        "\n",
        "    df1 = pd.read_sql('SELECT * FROM turbofan_engine_data', con=connection)\n",
        "    df2 = pd.read_sql('SELECT * FROM turbofan_rul_data', con=connection)\n",
        "\n",
        "    connection.close()\n",
        "\n",
        "    return df1, df2"
      ]
    },
    {
      "cell_type": "code",
      "source": [
        "df1, df2 = fetch_data()"
      ],
      "metadata": {
        "id": "BC5OP7HhdrEi"
      },
      "execution_count": 3,
      "outputs": []
    },
    {
      "cell_type": "code",
      "execution_count": 4,
      "metadata": {
        "id": "88fCk38K-__Y"
      },
      "outputs": [],
      "source": [
        "def clean_data(df):\n",
        "    # Handling missing values\n",
        "    na_counts_before = df.isna().sum()\n",
        "    if na_counts_before.sum() > 0:\n",
        "        print(f\"Rows with missing values before: {na_counts_before.sum()}\")\n",
        "        df = df.dropna(axis=0)\n",
        "        na_counts_after = df.isna().sum()\n",
        "        print(f\"Rows with missing values after: {na_counts_after.sum()}\")\n",
        "    else:\n",
        "        print(\"No missing values found. Proceeding with the original DataFrame.\")\n",
        "\n",
        "    # Handling duplicates\n",
        "    duplicates_before = df[df.duplicated(keep='first')]\n",
        "    if len(duplicates_before) > 0:\n",
        "        print(f\"Duplicates before: {len(duplicates_before)}\")\n",
        "        df = df.drop_duplicates(keep='first')\n",
        "        duplicates_after = df[df.duplicated(keep='first')]\n",
        "        print(f\"Duplicates after: {len(duplicates_after)}\")\n",
        "    else:\n",
        "        print(\"No duplicate rows found. Proceeding with the original DataFrame.\")\n",
        "\n",
        "    return df"
      ]
    },
    {
      "cell_type": "code",
      "execution_count": 5,
      "metadata": {
        "colab": {
          "base_uri": "https://localhost:8080/"
        },
        "id": "ohgdkCiFABrp",
        "outputId": "bd40430f-d154-4a7c-cacc-3ce3a332b303"
      },
      "outputs": [
        {
          "output_type": "stream",
          "name": "stdout",
          "text": [
            "No missing values found. Proceeding with the original DataFrame.\n",
            "No duplicate rows found. Proceeding with the original DataFrame.\n",
            "No missing values found. Proceeding with the original DataFrame.\n",
            "No duplicate rows found. Proceeding with the original DataFrame.\n"
          ]
        }
      ],
      "source": [
        "df1 = clean_data(df1)\n",
        "df2 = clean_data(df2)"
      ]
    },
    {
      "cell_type": "code",
      "execution_count": 6,
      "metadata": {
        "id": "KNe91Sy4pJIK"
      },
      "outputs": [],
      "source": [
        "train_df = df1[df1[\"source\"] == 0].copy()\n",
        "test_df = df1[df1[\"source\"] == 1].copy()"
      ]
    },
    {
      "cell_type": "markdown",
      "metadata": {
        "id": "HtdfozmhSv_4"
      },
      "source": [
        "# **DERIVING RUL COLUMN**"
      ]
    },
    {
      "cell_type": "code",
      "execution_count": 7,
      "metadata": {
        "id": "DoeQS9W7_4HM"
      },
      "outputs": [],
      "source": [
        "def add_rul_train(df):\n",
        "    max_cycles_train = df.groupby('engine')['cycle'].max().reset_index()\n",
        "    max_cycles_train.columns = ['engine', 'max_cycle_train']\n",
        "    df = df.merge(max_cycles_train, on='engine', how='left')\n",
        "    df['RUL'] = df['max_cycle_train'] - df['cycle']\n",
        "    df.drop(['max_cycle_train'], axis=1, inplace=True)\n",
        "    return df"
      ]
    },
    {
      "cell_type": "code",
      "execution_count": 8,
      "metadata": {
        "id": "fxulivRmpWlD"
      },
      "outputs": [],
      "source": [
        "def add_rul_test(df, external_rul_df):\n",
        "    df = df.merge(external_rul_df[['engine', 'RUL']], on='engine', how='left')\n",
        "    return df"
      ]
    },
    {
      "cell_type": "code",
      "source": [
        "train_df_with_rul = add_rul_train(train_df)\n",
        "test_df_with_rul = add_rul_test(test_df, df2)"
      ],
      "metadata": {
        "id": "MnYLqGend4nQ"
      },
      "execution_count": 9,
      "outputs": []
    },
    {
      "cell_type": "code",
      "execution_count": 10,
      "metadata": {
        "id": "840V0RATBA4G"
      },
      "outputs": [],
      "source": [
        "relevant_cols = ['LPC_outlet_temperature (T24)', 'HPC_outlet_temperature (T30)',\n",
        "                 'LPT_outlet_temperature (T50)', 'fan_inlet_pressure (P2)',\n",
        "                 'bypass_duct_pressure (P15)', 'fan_speed (Nf)', 'core_speed (Nc)',\n",
        "                 'HPC_outlet_static_pressure (Ps30)', 'altitude (alt)', 'mach_number (mach)',\n",
        "                 'throttle_resolver_angle (TRA)', 'fan_inlet_temperature (T2)',\n",
        "                 'HPC_outlet_pressure (P30)', 'engine_pressure_ratio (epr)',\n",
        "                 'fuel_ps30_ratio (phi)', 'corrected_fan_speed (NRf)', 'corrected_core_speed (NRc)',\n",
        "                 'bypass_ratio (BPR)', 'burner_fuel_air_ratio (farB)', 'bleed_enthalpy (htBleed)',\n",
        "                 'demanded_fan_speed (Nf_dmd)', 'demanded_corrected_fan_speed (PCNfR_dmd)',\n",
        "                 'HPT_coolant_bleed (W31)', 'LPT_coolant_bleed (W32)']"
      ]
    },
    {
      "cell_type": "code",
      "execution_count": 11,
      "metadata": {
        "id": "3BXhcj2rFHU9"
      },
      "outputs": [],
      "source": [
        "X_train= train_df_with_rul[relevant_cols]\n",
        "y_train= train_df_with_rul['RUL']"
      ]
    },
    {
      "cell_type": "code",
      "execution_count": 12,
      "metadata": {
        "id": "jHUqVZLxB1jD"
      },
      "outputs": [],
      "source": [
        "test_last_cycle = test_df_with_rul.groupby('engine')['cycle'].idxmax()\n",
        "test_last_cycle_df = test_df_with_rul.loc[test_last_cycle]\n",
        "\n",
        "X_test = test_last_cycle_df[relevant_cols]\n",
        "y_test = test_last_cycle_df['RUL']"
      ]
    },
    {
      "cell_type": "code",
      "execution_count": 13,
      "metadata": {
        "id": "IszbRNnNFpvR"
      },
      "outputs": [],
      "source": [
        "scaler = MinMaxScaler()\n",
        "\n",
        "X_train_scaled = scaler.fit_transform(X_train)\n",
        "X_test_scaled = scaler.transform(X_test)"
      ]
    },
    {
      "cell_type": "code",
      "source": [
        "def evaluate_model(model, X, y):\n",
        "    y_pred = model.predict(X)\n",
        "    rmse = int(np.sqrt(mean_squared_error(y, y_pred)))\n",
        "    mae = int(mean_absolute_error(y, y_pred))\n",
        "    r2 = r2_score(y, y_pred)\n",
        "    return rmse, mae, round(r2, 4)"
      ],
      "metadata": {
        "id": "KEVsp7o5eILP"
      },
      "execution_count": 14,
      "outputs": []
    },
    {
      "cell_type": "markdown",
      "metadata": {
        "id": "Y-jqW4hWYPf0"
      },
      "source": [
        "# **PCA**"
      ]
    },
    {
      "cell_type": "code",
      "execution_count": 15,
      "metadata": {
        "id": "hCMsjg99JUPn"
      },
      "outputs": [],
      "source": [
        "pca = PCA().fit(X_train_scaled)"
      ]
    },
    {
      "cell_type": "code",
      "execution_count": 16,
      "metadata": {
        "colab": {
          "base_uri": "https://localhost:8080/",
          "height": 581
        },
        "id": "5R5GItKyJW7-",
        "outputId": "c8d1a386-ad52-46ac-c351-eda771d65c43"
      },
      "outputs": [
        {
          "output_type": "display_data",
          "data": {
            "text/plain": [
              "<Figure size 1000x600 with 1 Axes>"
            ],
            "image/png": "[encoded data removed]"
          },
          "metadata": {}
        },
        {
          "output_type": "stream",
          "name": "stdout",
          "text": [
            "Number of components selected: 3\n"
          ]
        }
      ],
      "source": [
        "plt.figure(figsize=(10, 6))\n",
        "plt.plot(np.cumsum(pca.explained_variance_ratio_), marker='o', linestyle='--')\n",
        "plt.xlabel('Number of Principal Components')\n",
        "plt.ylabel('Cumulative Explained Variance')\n",
        "plt.title('Explained Variance by Principal Components')\n",
        "plt.grid(True)\n",
        "plt.show()\n",
        "\n",
        "# Selecting number of components to explain 99% of the variance\n",
        "n_components = np.argmax(np.cumsum(pca.explained_variance_ratio_) >= 0.99) + 1\n",
        "print(f'Number of components selected: {n_components}')"
      ]
    },
    {
      "cell_type": "code",
      "execution_count": 17,
      "metadata": {
        "id": "ofo4MERiYO8D"
      },
      "outputs": [],
      "source": [
        "pca = PCA(n_components=n_components)\n",
        "\n",
        "X_train_pca = pca.fit_transform(X_train_scaled)\n",
        "X_test_pca = pca.transform(X_test_scaled)"
      ]
    },
    {
      "cell_type": "code",
      "source": [
        "model_lr = LinearRegression()\n",
        "model_lr.fit(X_train_pca, y_train)\n",
        "\n",
        "train_rmse, train_mae, train_r2 = evaluate_model(model_lr, X_train_pca, y_train)\n",
        "print(f'Train RMSE: {train_rmse}, Train MAE: {train_mae}, Train R²: {train_r2}')\n",
        "\n",
        "test_rmse, test_mae, test_r2 = evaluate_model(model_lr, X_test_pca, y_test)\n",
        "print(f'Test RMSE: {test_rmse}, Test MAE: {test_mae}, Test R²: {test_r2}')"
      ],
      "metadata": {
        "id": "I3TyGSZ-eoTc",
        "colab": {
          "base_uri": "https://localhost:8080/"
        },
        "outputId": "6cb7b112-f711-498c-ce07-bb7a6bbba98b"
      },
      "execution_count": 18,
      "outputs": [
        {
          "output_type": "stream",
          "name": "stdout",
          "text": [
            "Train RMSE: 68, Train MAE: 56, Train R²: 0.0078\n",
            "Test RMSE: 59, Test MAE: 50, Test R²: -0.2208\n"
          ]
        }
      ]
    },
    {
      "cell_type": "code",
      "source": [
        "model_svr = SVR()\n",
        "model_svr.fit(X_train_pca, y_train)\n",
        "\n",
        "train_rmse, train_mae, train_r2 = evaluate_model(model_svr, X_train_pca, y_train)\n",
        "print(f'Train RMSE: {train_rmse}, Train MAE: {train_mae}, Train R²: {train_r2}')\n",
        "\n",
        "test_rmse, test_mae, test_r2 = evaluate_model(model_svr, X_test_pca, y_test)\n",
        "print(f'Test RMSE: {test_rmse}, Test MAE: {test_mae}, Test R²: {test_r2}')"
      ],
      "metadata": {
        "id": "t9YHtD5Cey14",
        "colab": {
          "base_uri": "https://localhost:8080/"
        },
        "outputId": "0a39973b-cae0-4af4-9edd-7c73248b6241"
      },
      "execution_count": 19,
      "outputs": [
        {
          "output_type": "stream",
          "name": "stdout",
          "text": [
            "Train RMSE: 67, Train MAE: 54, Train R²: 0.0492\n",
            "Test RMSE: 55, Test MAE: 46, Test R²: -0.0626\n"
          ]
        }
      ]
    },
    {
      "cell_type": "code",
      "execution_count": 20,
      "metadata": {
        "colab": {
          "base_uri": "https://localhost:8080/"
        },
        "id": "fF3OCh3uGKTV",
        "outputId": "47c8f754-8ae5-4827-cf14-dc41075f767d"
      },
      "outputs": [
        {
          "output_type": "stream",
          "name": "stdout",
          "text": [
            "Train RMSE (RF): 18, Train MAE (RF): 13, Train R² (RF): 0.9312\n",
            "Test RMSE (RF): 38, Test MAE (RF): 27, Test R² (RF): 0.4859\n"
          ]
        }
      ],
      "source": [
        "model_rf_selected = RandomForestRegressor(random_state=42)\n",
        "model_rf_selected.fit(X_train_pca, y_train)\n",
        "\n",
        "train_rmse_rf, train_mae_rf, train_r2_rf = evaluate_model(model_rf_selected, X_train_pca, y_train)\n",
        "print(f'Train RMSE (RF): {train_rmse_rf}, Train MAE (RF): {train_mae_rf}, Train R² (RF): {train_r2_rf}')\n",
        "\n",
        "test_rmse_rf, test_mae_rf, test_r2_rf = evaluate_model(model_rf_selected, X_test_pca, y_test)\n",
        "print(f'Test RMSE (RF): {test_rmse_rf}, Test MAE (RF): {test_mae_rf}, Test R² (RF): {test_r2_rf}')"
      ]
    },
    {
      "cell_type": "code",
      "execution_count": 21,
      "metadata": {
        "colab": {
          "base_uri": "https://localhost:8080/"
        },
        "id": "PgR4HPJHYcmL",
        "outputId": "2de7f224-4545-4c37-d78f-c7b4c6afe6a6"
      },
      "outputs": [
        {
          "output_type": "stream",
          "name": "stdout",
          "text": [
            "Train RMSE (PCA): 43, Train MAE (PCA): 32, Train R² (PCA): 0.6011\n",
            "Test RMSE (PCA): 35, Test MAE (PCA): 26, Test R² (PCA): 0.5659\n"
          ]
        }
      ],
      "source": [
        "model_pca_xgb = XGBRegressor(random_state=42)\n",
        "model_pca_xgb.fit(X_train_pca, y_train)\n",
        "\n",
        "train_rmse, train_mae, train_r2 = evaluate_model(model_pca_xgb, X_train_pca, y_train)\n",
        "print(f'Train RMSE (PCA): {train_rmse}, Train MAE (PCA): {train_mae}, Train R² (PCA): {train_r2}')\n",
        "\n",
        "test_rmse, test_mae, test_r2 = evaluate_model(model_pca_xgb, X_test_pca, y_test)\n",
        "print(f'Test RMSE (PCA): {test_rmse}, Test MAE (PCA): {test_mae}, Test R² (PCA): {test_r2}')"
      ]
    }
  ],
  "metadata": {
    "colab": {
      "provenance": []
    },
    "kernelspec": {
      "display_name": "Python 3",
      "name": "python3"
    },
    "language_info": {
      "name": "python"
    }
  },
  "nbformat": 4,
  "nbformat_minor": 0
}