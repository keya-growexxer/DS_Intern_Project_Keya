{
  "nbformat": 4,
  "nbformat_minor": 0,
  "metadata": {
    "colab": {
      "provenance": []
    },
    "kernelspec": {
      "name": "python3",
      "display_name": "Python 3"
    },
    "language_info": {
      "name": "python"
    }
  },
  "cells": [
    {
      "cell_type": "code",
      "execution_count": 1,
      "metadata": {
        "id": "H2ai7sUBbPCZ"
      },
      "outputs": [],
      "source": [
        "import psycopg2\n",
        "import pandas as pd\n",
        "import numpy as np\n",
        "import matplotlib.pyplot as plt\n",
        "import seaborn as sns\n",
        "from sklearn.preprocessing import MinMaxScaler\n",
        "from sklearn.linear_model import LinearRegression\n",
        "from sklearn.svm import SVR\n",
        "from sklearn.ensemble import RandomForestRegressor\n",
        "from xgboost import XGBRegressor\n",
        "from sklearn.metrics import mean_squared_error, mean_absolute_error, r2_score\n",
        "import configparser\n",
        "import warnings\n",
        "warnings.filterwarnings('ignore')"
      ]
    },
    {
      "cell_type": "code",
      "source": [
        "def fetch_data():\n",
        "    config = configparser.ConfigParser()\n",
        "    config.read('db_config.ini')\n",
        "\n",
        "    host = config['database']['host']\n",
        "    port = config['database'].getint('port')\n",
        "    user = config['database']['user']\n",
        "    password = config['database']['password']\n",
        "    database = config['database']['database']\n",
        "\n",
        "    connection = psycopg2.connect(\n",
        "        host=host,\n",
        "        port=port,\n",
        "        user=user,\n",
        "        password=password,\n",
        "        database=database\n",
        "    )\n",
        "\n",
        "    df1 = pd.read_sql('SELECT * FROM turbofan_engine_data', con=connection)\n",
        "    df2 = pd.read_sql('SELECT * FROM turbofan_rul_data', con=connection)\n",
        "\n",
        "    connection.close()\n",
        "\n",
        "    return df1, df2"
      ],
      "metadata": {
        "id": "LuGDuvKgdWV6"
      },
      "execution_count": 2,
      "outputs": []
    },
    {
      "cell_type": "code",
      "source": [
        "df1, df2 = fetch_data()"
      ],
      "metadata": {
        "id": "ILZ-eq2RdcKq"
      },
      "execution_count": 3,
      "outputs": []
    },
    {
      "cell_type": "code",
      "source": [
        "def clean_data(df):\n",
        "    # Handling missing values\n",
        "    na_counts_before = df.isna().sum()\n",
        "    if na_counts_before.sum() > 0:\n",
        "        print(f\"Rows with missing values before: {na_counts_before.sum()}\")\n",
        "        df = df.dropna(axis=0)\n",
        "        na_counts_after = df.isna().sum()\n",
        "        print(f\"Rows with missing values after: {na_counts_after.sum()}\")\n",
        "    else:\n",
        "        print(\"No missing values found. Proceeding with the original DataFrame.\")\n",
        "\n",
        "    # Handling duplicates\n",
        "    duplicates_before = df[df.duplicated(keep='first')]\n",
        "    if len(duplicates_before) > 0:\n",
        "        print(f\"Duplicates before: {len(duplicates_before)}\")\n",
        "        df = df.drop_duplicates(keep='first')\n",
        "        duplicates_after = df[df.duplicated(keep='first')]\n",
        "        print(f\"Duplicates after: {len(duplicates_after)}\")\n",
        "    else:\n",
        "        print(\"No duplicate rows found. Proceeding with the original DataFrame.\")\n",
        "\n",
        "    return df"
      ],
      "metadata": {
        "id": "WtDuWvtVdeh6"
      },
      "execution_count": 4,
      "outputs": []
    },
    {
      "cell_type": "code",
      "source": [
        "df1 = clean_data(df1)\n",
        "df2 = clean_data(df2)"
      ],
      "metadata": {
        "colab": {
          "base_uri": "https://localhost:8080/"
        },
        "id": "yyWkurRbdkVD",
        "outputId": "cdcf1e4a-789a-4704-dce7-e9b0fb4e5b6f"
      },
      "execution_count": 5,
      "outputs": [
        {
          "output_type": "stream",
          "name": "stdout",
          "text": [
            "No missing values found. Proceeding with the original DataFrame.\n",
            "No duplicate rows found. Proceeding with the original DataFrame.\n",
            "No missing values found. Proceeding with the original DataFrame.\n",
            "No duplicate rows found. Proceeding with the original DataFrame.\n"
          ]
        }
      ]
    },
    {
      "cell_type": "code",
      "source": [
        "train_df = df1[df1[\"source\"] == 0].copy()\n",
        "test_df = df1[df1[\"source\"] == 1].copy()"
      ],
      "metadata": {
        "id": "vmqgOE6jd3tH"
      },
      "execution_count": 6,
      "outputs": []
    },
    {
      "cell_type": "markdown",
      "source": [
        "# **Deriving RUL Column**"
      ],
      "metadata": {
        "id": "eBwgtQkehcO1"
      }
    },
    {
      "cell_type": "code",
      "source": [
        "def add_rul_train(df):\n",
        "    max_cycles_train = df.groupby('engine')['cycle'].max().reset_index()\n",
        "    max_cycles_train.columns = ['engine', 'max_cycle_train']\n",
        "    df = df.merge(max_cycles_train, on='engine', how='left')\n",
        "    df['RUL'] = df['max_cycle_train'] - df['cycle']\n",
        "    df.drop(['max_cycle_train'], axis=1, inplace=True)\n",
        "    return df"
      ],
      "metadata": {
        "id": "-MdvFcC2dnWT"
      },
      "execution_count": 7,
      "outputs": []
    },
    {
      "cell_type": "code",
      "source": [
        "def add_rul_test(df, external_rul_df):\n",
        "    df = df.merge(external_rul_df[['engine', 'RUL']], on='engine', how='left')\n",
        "    return df"
      ],
      "metadata": {
        "id": "lISCY_NSdodA"
      },
      "execution_count": 8,
      "outputs": []
    },
    {
      "cell_type": "code",
      "source": [
        "train_df_with_rul = add_rul_train(train_df)\n",
        "test_df_with_rul = add_rul_test(test_df, df2)"
      ],
      "metadata": {
        "id": "Nt5yDLybd_bn"
      },
      "execution_count": 9,
      "outputs": []
    },
    {
      "cell_type": "code",
      "source": [
        "# Features relevant to RUL prediction\n",
        "relevant_cols = ['LPC_outlet_temperature (T24)', 'HPC_outlet_temperature (T30)',\n",
        "                 'LPT_outlet_temperature (T50)', 'fan_inlet_pressure (P2)',\n",
        "                 'bypass_duct_pressure (P15)', 'fan_speed (Nf)', 'core_speed (Nc)',\n",
        "                 'HPC_outlet_static_pressure (Ps30)', 'altitude (alt)', 'mach_number (mach)',\n",
        "                 'throttle_resolver_angle (TRA)', 'fan_inlet_temperature (T2)',\n",
        "                 'HPC_outlet_pressure (P30)', 'engine_pressure_ratio (epr)',\n",
        "                 'fuel_ps30_ratio (phi)', 'corrected_fan_speed (NRf)', 'corrected_core_speed (NRc)',\n",
        "                 'bypass_ratio (BPR)', 'burner_fuel_air_ratio (farB)', 'bleed_enthalpy (htBleed)',\n",
        "                 'demanded_fan_speed (Nf_dmd)', 'demanded_corrected_fan_speed (PCNfR_dmd)',\n",
        "                 'HPT_coolant_bleed (W31)', 'LPT_coolant_bleed (W32)', 'RUL']"
      ],
      "metadata": {
        "id": "mmCnRV76eEv4"
      },
      "execution_count": 10,
      "outputs": []
    },
    {
      "cell_type": "code",
      "source": [
        "def evaluate_model(model, X, y):\n",
        "    y_pred = model.predict(X)\n",
        "    rmse = int(np.sqrt(mean_squared_error(y, y_pred)))\n",
        "    mae = int(mean_absolute_error(y, y_pred))\n",
        "    r2 = r2_score(y, y_pred)\n",
        "    return rmse, mae, round(r2, 4)"
      ],
      "metadata": {
        "id": "DiK5W_u1hkIv"
      },
      "execution_count": 11,
      "outputs": []
    },
    {
      "cell_type": "code",
      "source": [
        "def select_features_corr(df, target_col, threshold):\n",
        "\n",
        "    df = df[relevant_cols]\n",
        "\n",
        "    correlation_matrix = df.corr().abs()\n",
        "\n",
        "    upper = correlation_matrix.where(np.triu(np.ones(correlation_matrix.shape), k=1).astype(bool))\n",
        "\n",
        "    high_correlation_pairs = []\n",
        "    for i in range(len(upper.columns)):\n",
        "        for j in range(i + 1, len(upper.columns)):\n",
        "            if upper.iloc[i, j] > threshold:\n",
        "                high_correlation_pairs.append((upper.columns[i], upper.columns[j]))\n",
        "\n",
        "    # Remove redundant features\n",
        "    features_to_remove = set()\n",
        "    for feat1, feat2 in high_correlation_pairs:\n",
        "        if abs(correlation_matrix.loc[target_col, feat1]) > abs(correlation_matrix.loc[target_col, feat2]):\n",
        "            features_to_remove.add(feat2)\n",
        "        else:\n",
        "            features_to_remove.add(feat1)\n",
        "\n",
        "    selected_features = [col for col in df.columns if col not in features_to_remove]\n",
        "\n",
        "    return selected_features\n"
      ],
      "metadata": {
        "id": "u4CQhhCudybg"
      },
      "execution_count": 12,
      "outputs": []
    },
    {
      "cell_type": "code",
      "source": [
        "selected_features = select_features_corr(train_df_with_rul, target_col='RUL', threshold=0.9)\n",
        "print(\"Selected Features after correlation filtering:\", selected_features)"
      ],
      "metadata": {
        "colab": {
          "base_uri": "https://localhost:8080/"
        },
        "id": "Ph9OOkRpeIVJ",
        "outputId": "869eff1e-678a-42c3-8bc6-53d14fef1d84"
      },
      "execution_count": 13,
      "outputs": [
        {
          "output_type": "stream",
          "name": "stdout",
          "text": [
            "Selected Features after correlation filtering: ['HPC_outlet_static_pressure (Ps30)', 'corrected_core_speed (NRc)', 'burner_fuel_air_ratio (farB)', 'RUL']\n"
          ]
        }
      ]
    },
    {
      "cell_type": "code",
      "source": [
        "X_train = train_df_with_rul[selected_features].drop(columns=['RUL'])\n",
        "y_train = train_df_with_rul['RUL']"
      ],
      "metadata": {
        "id": "u8pY-0yqeWpB"
      },
      "execution_count": 14,
      "outputs": []
    },
    {
      "cell_type": "code",
      "source": [
        "test_last_cycle = test_df_with_rul.groupby('engine')['cycle'].idxmax()\n",
        "test_last_cycle_df = test_df_with_rul.loc[test_last_cycle]\n",
        "\n",
        "X_test = test_last_cycle_df[selected_features].drop(columns=['RUL'])\n",
        "y_test = test_last_cycle_df['RUL']"
      ],
      "metadata": {
        "id": "HXwasNAjeaah"
      },
      "execution_count": 15,
      "outputs": []
    },
    {
      "cell_type": "code",
      "source": [
        "scaler = MinMaxScaler()\n",
        "X_train_scaled = scaler.fit_transform(X_train)\n",
        "X_test_scaled = scaler.transform(X_test)"
      ],
      "metadata": {
        "id": "LnBnRmRWeZOf"
      },
      "execution_count": 16,
      "outputs": []
    },
    {
      "cell_type": "markdown",
      "source": [
        "# **Model Training**"
      ],
      "metadata": {
        "id": "oKATWnfQh3eq"
      }
    },
    {
      "cell_type": "code",
      "source": [
        "model_lr = LinearRegression()\n",
        "model_lr.fit(X_train_scaled, y_train)\n",
        "\n",
        "train_rmse, train_mae, train_r2 = evaluate_model(model_lr, X_train_scaled, y_train)\n",
        "print(f'Train RMSE: {train_rmse}, Train MAE: {train_mae}, Train R²: {train_r2}')\n",
        "\n",
        "test_rmse, test_mae, test_r2 = evaluate_model(model_lr, X_test_scaled, y_test)\n",
        "print(f'Test RMSE: {test_rmse}, Test MAE: {test_mae}, Test R²: {test_r2}')"
      ],
      "metadata": {
        "colab": {
          "base_uri": "https://localhost:8080/"
        },
        "id": "ZtNbwBr3r7cx",
        "outputId": "b323b750-b876-4275-e858-f91739291d49"
      },
      "execution_count": 17,
      "outputs": [
        {
          "output_type": "stream",
          "name": "stdout",
          "text": [
            "Train RMSE: 68, Train MAE: 56, Train R²: 0.0056\n",
            "Test RMSE: 59, Test MAE: 50, Test R²: -0.2323\n"
          ]
        }
      ]
    },
    {
      "cell_type": "code",
      "source": [
        "model_svr = SVR()\n",
        "model_svr.fit(X_train_scaled, y_train)\n",
        "\n",
        "train_rmse, train_mae, train_r2 = evaluate_model(model_svr, X_train_scaled, y_train)\n",
        "print(f'Train RMSE: {train_rmse}, Train MAE: {train_mae}, Train R²: {train_r2}')\n",
        "\n",
        "test_rmse, test_mae, test_r2 = evaluate_model(model_svr, X_test_scaled, y_test)\n",
        "print(f'Test RMSE: {test_rmse}, Test MAE: {test_mae}, Test R²: {test_r2}')"
      ],
      "metadata": {
        "colab": {
          "base_uri": "https://localhost:8080/"
        },
        "id": "x9e2ium4Rd2a",
        "outputId": "6a0a46c2-f39e-4421-fd62-290e1ff9b250"
      },
      "execution_count": 18,
      "outputs": [
        {
          "output_type": "stream",
          "name": "stdout",
          "text": [
            "Train RMSE: 66, Train MAE: 53, Train R²: 0.0721\n",
            "Test RMSE: 52, Test MAE: 43, Test R²: 0.0444\n"
          ]
        }
      ]
    },
    {
      "cell_type": "code",
      "source": [
        "model_rf = RandomForestRegressor(random_state=42)\n",
        "model_rf.fit(X_train_scaled, y_train)\n",
        "\n",
        "train_rmse_rf, train_mae_rf, train_r2_rf = evaluate_model(model_rf, X_train_scaled, y_train)\n",
        "print(f'Train RMSE (RF): {train_rmse_rf}, Train MAE (RF): {train_mae_rf}, Train R² (RF): {train_r2_rf}')\n",
        "\n",
        "test_rmse_rf, test_mae_rf, test_r2_rf = evaluate_model(model_rf, X_test_scaled, y_test)\n",
        "print(f'Test RMSE (RF): {test_rmse_rf}, Test MAE (RF): {test_mae_rf}, Test R² (RF): {test_r2_rf}')\n"
      ],
      "metadata": {
        "colab": {
          "base_uri": "https://localhost:8080/"
        },
        "id": "AGuZ0XSYsVfa",
        "outputId": "3f8721b5-31ec-4a75-af77-b287df86ccdd"
      },
      "execution_count": 19,
      "outputs": [
        {
          "output_type": "stream",
          "name": "stdout",
          "text": [
            "Train RMSE (RF): 20, Train MAE (RF): 15, Train R² (RF): 0.9087\n",
            "Test RMSE (RF): 43, Test MAE (RF): 32, Test R² (RF): 0.3561\n"
          ]
        }
      ]
    },
    {
      "cell_type": "code",
      "source": [
        "model_xgb = XGBRegressor(random_state=42)\n",
        "model_xgb.fit(X_train_scaled, y_train)\n",
        "\n",
        "train_rmse_xgb, train_mae_xgb, train_r2_xgb = evaluate_model(model_xgb, X_train_scaled, y_train)\n",
        "print(f'Train RMSE (XGB): {train_rmse_xgb}, Train MAE (XGB): {train_mae_xgb}, Train R² (XGB): {train_r2_xgb}')\n",
        "\n",
        "test_rmse_xgb, test_mae_xgb, test_r2_xgb = evaluate_model(model_xgb, X_test_scaled, y_test)\n",
        "print(f'Test RMSE (XGB): {test_rmse_xgb}, Test MAE (XGB): {test_mae_xgb}, Test R² (XGB): {test_r2_xgb}')"
      ],
      "metadata": {
        "colab": {
          "base_uri": "https://localhost:8080/"
        },
        "id": "kYl4vNHrtbNR",
        "outputId": "74ff0578-03bf-4fce-8bf0-037396c64754"
      },
      "execution_count": 20,
      "outputs": [
        {
          "output_type": "stream",
          "name": "stdout",
          "text": [
            "Train RMSE (XGB): 46, Train MAE (XGB): 34, Train R² (XGB): 0.5511\n",
            "Test RMSE (XGB): 37, Test MAE (XGB): 26, Test R² (XGB): 0.5246\n"
          ]
        }
      ]
    }
  ]
}