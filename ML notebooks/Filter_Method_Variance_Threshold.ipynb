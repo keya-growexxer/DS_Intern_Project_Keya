{
  "nbformat": 4,
  "nbformat_minor": 0,
  "metadata": {
    "colab": {
      "provenance": []
    },
    "kernelspec": {
      "name": "python3",
      "display_name": "Python 3"
    },
    "language_info": {
      "name": "python"
    }
  },
  "cells": [
    {
      "cell_type": "code",
      "execution_count": 1,
      "metadata": {
        "id": "a03An4RKs3CA"
      },
      "outputs": [],
      "source": [
        "import psycopg2\n",
        "import pandas as pd\n",
        "import numpy as np\n",
        "from sklearn.preprocessing import MinMaxScaler\n",
        "from sklearn.linear_model import LinearRegression\n",
        "from sklearn.svm import SVR\n",
        "from sklearn.ensemble import RandomForestRegressor\n",
        "from xgboost import XGBRegressor\n",
        "from sklearn.metrics import mean_squared_error, mean_absolute_error, r2_score\n",
        "from sklearn.feature_selection import VarianceThreshold\n",
        "import configparser\n",
        "import warnings\n",
        "warnings.filterwarnings('ignore')"
      ]
    },
    {
      "cell_type": "code",
      "source": [
        "def fetch_data():\n",
        "    config = configparser.ConfigParser()\n",
        "    config.read('db_config.ini')\n",
        "\n",
        "    host = config['database']['host']\n",
        "    port = config['database'].getint('port')\n",
        "    user = config['database']['user']\n",
        "    password = config['database']['password']\n",
        "    database = config['database']['database']\n",
        "\n",
        "    connection = psycopg2.connect(\n",
        "        host=host,\n",
        "        port=port,\n",
        "        user=user,\n",
        "        password=password,\n",
        "        database=database\n",
        "    )\n",
        "\n",
        "    df1 = pd.read_sql('SELECT * FROM turbofan_engine_data', con=connection)\n",
        "    df2 = pd.read_sql('SELECT * FROM turbofan_rul_data', con=connection)\n",
        "\n",
        "    connection.close()\n",
        "\n",
        "    return df1, df2"
      ],
      "metadata": {
        "id": "cBOfk4EztFPr"
      },
      "execution_count": 2,
      "outputs": []
    },
    {
      "cell_type": "code",
      "source": [
        "df1, df2 = fetch_data()"
      ],
      "metadata": {
        "id": "XphcfSl1VF54"
      },
      "execution_count": 3,
      "outputs": []
    },
    {
      "cell_type": "code",
      "source": [
        "def clean_data(df):\n",
        "    # Handling missing values\n",
        "    na_counts_before = df.isna().sum()\n",
        "    if na_counts_before.sum() > 0:\n",
        "        print(f\"Rows with missing values before: {na_counts_before.sum()}\")\n",
        "        df = df.dropna(axis=0)\n",
        "        na_counts_after = df.isna().sum()\n",
        "        print(f\"Rows with missing values after: {na_counts_after.sum()}\")\n",
        "    else:\n",
        "        print(\"No missing values found. Proceeding with the original DataFrame.\")\n",
        "\n",
        "    # Handling duplicates\n",
        "    duplicates_before = df[df.duplicated(keep='first')]\n",
        "    if len(duplicates_before) > 0:\n",
        "        print(f\"Duplicates before: {len(duplicates_before)}\")\n",
        "        df = df.drop_duplicates(keep='first')\n",
        "        duplicates_after = df[df.duplicated(keep='first')]\n",
        "        print(f\"Duplicates after: {len(duplicates_after)}\")\n",
        "    else:\n",
        "        print(\"No duplicate rows found. Proceeding with the original DataFrame.\")\n",
        "\n",
        "    return df"
      ],
      "metadata": {
        "id": "d0sx5UAPtIJx"
      },
      "execution_count": 4,
      "outputs": []
    },
    {
      "cell_type": "code",
      "source": [
        "df1 = clean_data(df1)\n",
        "df2 = clean_data(df2)"
      ],
      "metadata": {
        "colab": {
          "base_uri": "https://localhost:8080/"
        },
        "id": "Amh1B1DOtRgI",
        "outputId": "dfcabd0c-d107-41cb-d187-4292a1707ea8"
      },
      "execution_count": 5,
      "outputs": [
        {
          "output_type": "stream",
          "name": "stdout",
          "text": [
            "No missing values found. Proceeding with the original DataFrame.\n",
            "No duplicate rows found. Proceeding with the original DataFrame.\n",
            "No missing values found. Proceeding with the original DataFrame.\n",
            "No duplicate rows found. Proceeding with the original DataFrame.\n"
          ]
        }
      ]
    },
    {
      "cell_type": "code",
      "source": [
        "train_df = df1[df1[\"source\"] == 0].copy()\n",
        "test_df = df1[df1[\"source\"] == 1].copy()"
      ],
      "metadata": {
        "id": "TF28o6WBwZ4I"
      },
      "execution_count": 6,
      "outputs": []
    },
    {
      "cell_type": "markdown",
      "source": [
        "# **Deriving RUL Column**"
      ],
      "metadata": {
        "id": "55GJ_7n41Mm_"
      }
    },
    {
      "cell_type": "code",
      "source": [
        "def add_rul_train(df):\n",
        "    max_cycles_train = df.groupby('engine')['cycle'].max().reset_index()\n",
        "    max_cycles_train.columns = ['engine', 'max_cycle_train']\n",
        "    df = df.merge(max_cycles_train, on='engine', how='left')\n",
        "    df['RUL'] = df['max_cycle_train'] - df['cycle']\n",
        "    df.drop(['max_cycle_train'], axis=1, inplace=True)\n",
        "    return df"
      ],
      "metadata": {
        "id": "N-TYuA2FtWP9"
      },
      "execution_count": 7,
      "outputs": []
    },
    {
      "cell_type": "code",
      "source": [
        "def add_rul_test(df, external_rul_df):\n",
        "    df = df.merge(external_rul_df[['engine', 'RUL']], on='engine', how='left')\n",
        "    return df"
      ],
      "metadata": {
        "id": "XLfd9RIrt7R8"
      },
      "execution_count": 8,
      "outputs": []
    },
    {
      "cell_type": "code",
      "source": [
        "train_df_with_rul = add_rul_train(train_df)\n",
        "test_df_with_rul = add_rul_test(test_df, df2)"
      ],
      "metadata": {
        "id": "TsnMp_t9VeIR"
      },
      "execution_count": 9,
      "outputs": []
    },
    {
      "cell_type": "code",
      "source": [
        "relevant_cols = ['LPC_outlet_temperature (T24)', 'HPC_outlet_temperature (T30)',\n",
        "                 'LPT_outlet_temperature (T50)', 'fan_inlet_pressure (P2)',\n",
        "                 'bypass_duct_pressure (P15)', 'fan_speed (Nf)', 'core_speed (Nc)',\n",
        "                 'HPC_outlet_static_pressure (Ps30)', 'altitude (alt)', 'mach_number (mach)',\n",
        "                 'throttle_resolver_angle (TRA)', 'fan_inlet_temperature (T2)',\n",
        "                 'HPC_outlet_pressure (P30)', 'engine_pressure_ratio (epr)',\n",
        "                 'fuel_ps30_ratio (phi)', 'corrected_fan_speed (NRf)', 'corrected_core_speed (NRc)',\n",
        "                 'bypass_ratio (BPR)', 'burner_fuel_air_ratio (farB)', 'bleed_enthalpy (htBleed)',\n",
        "                 'demanded_fan_speed (Nf_dmd)', 'demanded_corrected_fan_speed (PCNfR_dmd)',\n",
        "                 'HPT_coolant_bleed (W31)', 'LPT_coolant_bleed (W32)']"
      ],
      "metadata": {
        "id": "CH0Gl1vA6dP_"
      },
      "execution_count": 10,
      "outputs": []
    },
    {
      "cell_type": "code",
      "source": [
        "def evaluate_model(model, X, y):\n",
        "    y_pred = model.predict(X)\n",
        "    rmse = int(np.sqrt(mean_squared_error(y, y_pred)))\n",
        "    mae = int(mean_absolute_error(y, y_pred))\n",
        "    r2 = r2_score(y, y_pred)\n",
        "    return rmse, mae, round(r2, 4)"
      ],
      "metadata": {
        "id": "UBRtCkG9Utqw"
      },
      "execution_count": 11,
      "outputs": []
    },
    {
      "cell_type": "code",
      "source": [
        "test_last_cycle = test_df_with_rul.groupby('engine')['cycle'].idxmax()\n",
        "test_last_cycle_df = test_df_with_rul.loc[test_last_cycle]"
      ],
      "metadata": {
        "id": "43WMYP9bTVOZ"
      },
      "execution_count": 12,
      "outputs": []
    },
    {
      "cell_type": "code",
      "source": [
        "y_train = train_df_with_rul['RUL']\n",
        "y_test = test_last_cycle_df['RUL']"
      ],
      "metadata": {
        "id": "rR9ZIpNxTYch"
      },
      "execution_count": 13,
      "outputs": []
    },
    {
      "cell_type": "code",
      "source": [
        "scaler = MinMaxScaler()\n",
        "\n",
        "X_train_scaled = scaler.fit_transform(train_df_with_rul[relevant_cols])\n",
        "X_test_scaled = scaler.transform(test_last_cycle_df[relevant_cols])"
      ],
      "metadata": {
        "id": "eXbnk08RdDmo"
      },
      "execution_count": 14,
      "outputs": []
    },
    {
      "cell_type": "code",
      "source": [
        "selector = VarianceThreshold(threshold=0.1)\n",
        "X_train_selected = selector.fit_transform(X_train_scaled)\n",
        "X_test_selected = selector.transform(X_test_scaled)"
      ],
      "metadata": {
        "id": "dcHU6CbDSL1u"
      },
      "execution_count": 15,
      "outputs": []
    },
    {
      "cell_type": "markdown",
      "source": [
        "# **Model Training**"
      ],
      "metadata": {
        "id": "3NFQNQgz1Zti"
      }
    },
    {
      "cell_type": "code",
      "source": [
        "model_lr_selected = LinearRegression()\n",
        "model_lr_selected.fit(X_train_selected, y_train)\n",
        "\n",
        "train_rmse, train_mae, train_r2 = evaluate_model(model_lr_selected,X_train_selected, y_train)\n",
        "print(f'Train RMSE: {train_rmse}, Train MAE: {train_mae}, Train R²: {train_r2}')\n",
        "\n",
        "test_rmse, test_mae, test_r2 = evaluate_model(model_lr_selected, X_test_selected, y_test)\n",
        "print(f'Test RMSE: {test_rmse}, Test MAE: {test_mae}, Test R²: {test_r2}')\n"
      ],
      "metadata": {
        "colab": {
          "base_uri": "https://localhost:8080/"
        },
        "id": "578nwHlvUO7e",
        "outputId": "758766dd-20dd-4b3d-8a70-0e761d8fea7f"
      },
      "execution_count": 16,
      "outputs": [
        {
          "output_type": "stream",
          "name": "stdout",
          "text": [
            "Train RMSE: 50, Train MAE: 39, Train R²: 0.459\n",
            "Test RMSE: 43, Test MAE: 35, Test R²: 0.3579\n"
          ]
        }
      ]
    },
    {
      "cell_type": "code",
      "source": [
        "model_svr = SVR()\n",
        "model_svr.fit(X_train_selected, y_train)\n",
        "\n",
        "train_rmse, train_mae, train_r2 = evaluate_model(model_svr, X_train_selected, y_train)\n",
        "print(f'Train RMSE: {train_rmse}, Train MAE: {train_mae}, Train R²: {train_r2}')\n",
        "\n",
        "test_rmse, test_mae, test_r2 = evaluate_model(model_svr, X_test_selected , y_test)\n",
        "print(f'Test RMSE: {test_rmse}, Test MAE: {test_mae}, Test R²: {test_r2}')"
      ],
      "metadata": {
        "colab": {
          "base_uri": "https://localhost:8080/"
        },
        "id": "a7j5CDFcWVcI",
        "outputId": "3418fb0e-e234-421f-b906-179d9371cb2e"
      },
      "execution_count": 17,
      "outputs": [
        {
          "output_type": "stream",
          "name": "stdout",
          "text": [
            "Train RMSE: 67, Train MAE: 54, Train R²: 0.045\n",
            "Test RMSE: 55, Test MAE: 46, Test R²: -0.0822\n"
          ]
        }
      ]
    },
    {
      "cell_type": "code",
      "source": [
        "model_rf_selected = RandomForestRegressor(random_state=42)\n",
        "model_rf_selected.fit(X_train_selected, y_train)\n",
        "\n",
        "train_rmse_rf, train_mae_rf, train_r2_rf = evaluate_model(model_rf_selected, X_train_selected, y_train)\n",
        "print(f'Train RMSE (RF): {train_rmse_rf}, Train MAE (RF): {train_mae_rf}, Train R² (RF): {train_r2_rf}')\n",
        "\n",
        "test_rmse_rf, test_mae_rf, test_r2_rf = evaluate_model(model_rf_selected, X_test_selected, y_test)\n",
        "print(f'Test RMSE (RF): {test_rmse_rf}, Test MAE (RF): {test_mae_rf}, Test R² (RF): {test_r2_rf}')"
      ],
      "metadata": {
        "id": "r6AG40fW2IB6",
        "colab": {
          "base_uri": "https://localhost:8080/"
        },
        "outputId": "19a07f4a-2f92-48b3-8047-d4abb6cef7ca"
      },
      "execution_count": 18,
      "outputs": [
        {
          "output_type": "stream",
          "name": "stdout",
          "text": [
            "Train RMSE (RF): 18, Train MAE (RF): 13, Train R² (RF): 0.9286\n",
            "Test RMSE (RF): 38, Test MAE (RF): 29, Test R² (RF): 0.4846\n"
          ]
        }
      ]
    },
    {
      "cell_type": "code",
      "source": [
        "model_xgb_selected = XGBRegressor(random_state=42)\n",
        "model_xgb_selected.fit(X_train_selected, y_train)\n",
        "\n",
        "train_rmse_xgb, train_mae_xgb, train_r2_xgb = evaluate_model(model_xgb_selected, X_train_selected, y_train)\n",
        "print(f'Train RMSE (XGB): {train_rmse_xgb}, Train MAE (XGB): {train_mae_xgb}, Train R² (XGB): {train_r2_xgb}')\n",
        "\n",
        "test_rmse_xgb, test_mae_xgb, test_r2_xgb = evaluate_model(model_xgb_selected, X_test_selected, y_test)\n",
        "print(f'Test RMSE (XGB): {test_rmse_xgb}, Test MAE (XGB): {test_mae_xgb}, Test R² (XGB): {test_r2_xgb}')"
      ],
      "metadata": {
        "id": "DEZD02VK3ocW",
        "colab": {
          "base_uri": "https://localhost:8080/"
        },
        "outputId": "f2dd969a-143e-4a75-bd06-9dee87295335"
      },
      "execution_count": 19,
      "outputs": [
        {
          "output_type": "stream",
          "name": "stdout",
          "text": [
            "Train RMSE (XGB): 43, Train MAE (XGB): 32, Train R² (XGB): 0.6121\n",
            "Test RMSE (XGB): 39, Test MAE (XGB): 30, Test R² (XGB): 0.4677\n"
          ]
        }
      ]
    }
  ]
}