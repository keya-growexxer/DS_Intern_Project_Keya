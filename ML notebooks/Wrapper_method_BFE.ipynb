{
 "cells": [
  {
   "cell_type": "code",
   "execution_count": 1,
   "metadata": {
    "id": "a03An4RKs3CA"
   },
   "outputs": [],
   "source": [
    "import psycopg2\n",
    "import pandas as pd\n",
    "import numpy as np\n",
    "from sklearn.preprocessing import MinMaxScaler\n",
    "import statsmodels.api as sm\n",
    "from sklearn.linear_model import LinearRegression\n",
    "from sklearn.svm import SVR\n",
    "from sklearn.ensemble import RandomForestRegressor\n",
    "from xgboost import XGBRegressor\n",
    "from sklearn.metrics import mean_squared_error, mean_absolute_error, r2_score\n",
    "import configparser\n",
    "import warnings\n",
    "warnings.filterwarnings('ignore')"
   ]
  },
  {
   "cell_type": "code",
   "execution_count": 2,
   "metadata": {
    "id": "cBOfk4EztFPr"
   },
   "outputs": [],
   "source": [
    "def fetch_data():\n",
    "    config = configparser.ConfigParser()\n",
    "    config.read('db_config.ini')\n",
    "\n",
    "    host = config['database']['host']\n",
    "    port = config['database'].getint('port')\n",
    "    user = config['database']['user']\n",
    "    password = config['database']['password']\n",
    "    database = config['database']['database']\n",
    "\n",
    "    connection = psycopg2.connect(\n",
    "        host=host,\n",
    "        port=port,\n",
    "        user=user,\n",
    "        password=password,\n",
    "        database=database\n",
    "    )\n",
    "\n",
    "    df1 = pd.read_sql('SELECT * FROM turbofan_engine_data', con=connection)\n",
    "    df2 = pd.read_sql('SELECT * FROM turbofan_rul_data', con=connection)\n",
    "\n",
    "    connection.close()\n",
    "\n",
    "    return df1, df2"
   ]
  },
  {
   "cell_type": "code",
   "execution_count": 3,
   "metadata": {
    "id": "rgT21Dqfy2jg"
   },
   "outputs": [],
   "source": [
    "df1, df2 = fetch_data()"
   ]
  },
  {
   "cell_type": "code",
   "execution_count": 4,
   "metadata": {
    "id": "d0sx5UAPtIJx"
   },
   "outputs": [],
   "source": [
    "def clean_data(df):\n",
    "    # Handling missing values\n",
    "    na_counts_before = df.isna().sum()\n",
    "    if na_counts_before.sum() > 0:\n",
    "        print(f\"Rows with missing values before: {na_counts_before.sum()}\")\n",
    "        df = df.dropna(axis=0)\n",
    "        na_counts_after = df.isna().sum()\n",
    "        print(f\"Rows with missing values after: {na_counts_after.sum()}\")\n",
    "    else:\n",
    "        print(\"No missing values found. Proceeding with the original DataFrame.\")\n",
    "\n",
    "    # Handling duplicates\n",
    "    duplicates_before = df[df.duplicated(keep='first')]\n",
    "    if len(duplicates_before) > 0:\n",
    "        print(f\"Duplicates before: {len(duplicates_before)}\")\n",
    "        df = df.drop_duplicates(keep='first')\n",
    "        duplicates_after = df[df.duplicated(keep='first')]\n",
    "        print(f\"Duplicates after: {len(duplicates_after)}\")\n",
    "    else:\n",
    "        print(\"No duplicate rows found. Proceeding with the original DataFrame.\")\n",
    "\n",
    "    return df"
   ]
  },
  {
   "cell_type": "code",
   "execution_count": 5,
   "metadata": {
    "colab": {
     "base_uri": "https://localhost:8080/"
    },
    "id": "Amh1B1DOtRgI",
    "outputId": "8103a578-64f6-4eb2-d525-92a870cb19ea"
   },
   "outputs": [
    {
     "name": "stdout",
     "output_type": "stream",
     "text": [
      "No missing values found. Proceeding with the original DataFrame.\n",
      "No duplicate rows found. Proceeding with the original DataFrame.\n",
      "No missing values found. Proceeding with the original DataFrame.\n",
      "No duplicate rows found. Proceeding with the original DataFrame.\n"
     ]
    }
   ],
   "source": [
    "df1 = clean_data(df1)\n",
    "df2 = clean_data(df2)"
   ]
  },
  {
   "cell_type": "code",
   "execution_count": 6,
   "metadata": {
    "id": "TF28o6WBwZ4I"
   },
   "outputs": [],
   "source": [
    "train_df = df1[df1[\"source\"] == 0].copy()\n",
    "test_df = df1[df1[\"source\"] == 1].copy()"
   ]
  },
  {
   "cell_type": "markdown",
   "metadata": {
    "id": "5GI05nW6z321"
   },
   "source": [
    "# **Deriving RUL Column**"
   ]
  },
  {
   "cell_type": "code",
   "execution_count": 7,
   "metadata": {
    "id": "N-TYuA2FtWP9"
   },
   "outputs": [],
   "source": [
    "def add_rul_train(df):\n",
    "    max_cycles_train = df.groupby('engine')['cycle'].max().reset_index()\n",
    "    max_cycles_train.columns = ['engine', 'max_cycle_train']\n",
    "    df = df.merge(max_cycles_train, on='engine', how='left')\n",
    "    df['RUL'] = df['max_cycle_train'] - df['cycle']\n",
    "    df.drop(['max_cycle_train'], axis=1, inplace=True)\n",
    "    return df"
   ]
  },
  {
   "cell_type": "code",
   "execution_count": 8,
   "metadata": {
    "id": "XLfd9RIrt7R8"
   },
   "outputs": [],
   "source": [
    "def add_rul_test(df, external_rul_df):\n",
    "    df = df.merge(external_rul_df[['engine', 'RUL']], on='engine', how='left')\n",
    "    return df"
   ]
  },
  {
   "cell_type": "code",
   "execution_count": 9,
   "metadata": {
    "id": "32_rYK24zEHC"
   },
   "outputs": [],
   "source": [
    "train_df_with_rul = add_rul_train(train_df)\n",
    "test_df_with_rul = add_rul_test(test_df, df2)"
   ]
  },
  {
   "cell_type": "code",
   "execution_count": 10,
   "metadata": {
    "id": "KAnQKiDUuQXj"
   },
   "outputs": [],
   "source": [
    "test_last_cycle = test_df_with_rul.groupby('engine')['cycle'].idxmax()\n",
    "test_last_cycle_df = test_df_with_rul.loc[test_last_cycle]"
   ]
  },
  {
   "cell_type": "markdown",
   "metadata": {
    "id": "qZVyghHez8x4"
   },
   "source": [
    "# **Performing backward feature elimination (BFE)**"
   ]
  },
  {
   "cell_type": "code",
   "execution_count": 11,
   "metadata": {
    "colab": {
     "base_uri": "https://localhost:8080/"
    },
    "id": "N-vLGr2ZZEQo",
    "outputId": "2ef4a221-6c05-4940-c87b-3cf461a4bb1a"
   },
   "outputs": [
    {
     "name": "stdout",
     "output_type": "stream",
     "text": [
      "Removing feature with highest p-value: fan_speed (Nf)\n",
      "Removing feature with highest p-value: mach_number (mach)\n",
      "Removing feature with highest p-value: burner_fuel_air_ratio (farB)\n",
      "Removing feature with highest p-value: corrected_fan_speed (NRf)\n",
      "Selected features: Index(['LPC_outlet_temperature (T24)', 'HPC_outlet_temperature (T30)',\n",
      "       'LPT_outlet_temperature (T50)', 'fan_inlet_pressure (P2)',\n",
      "       'bypass_duct_pressure (P15)', 'core_speed (Nc)',\n",
      "       'HPC_outlet_static_pressure (Ps30)', 'altitude (alt)',\n",
      "       'throttle_resolver_angle (TRA)', 'fan_inlet_temperature (T2)',\n",
      "       'HPC_outlet_pressure (P30)', 'engine_pressure_ratio (epr)',\n",
      "       'fuel_ps30_ratio (phi)', 'corrected_core_speed (NRc)',\n",
      "       'bypass_ratio (BPR)', 'bleed_enthalpy (htBleed)',\n",
      "       'demanded_fan_speed (Nf_dmd)',\n",
      "       'demanded_corrected_fan_speed (PCNfR_dmd)', 'HPT_coolant_bleed (W31)',\n",
      "       'LPT_coolant_bleed (W32)'],\n",
      "      dtype='object')\n"
     ]
    }
   ],
   "source": [
    "X = train_df_with_rul.drop(['RUL','index','engine','cycle','source'], axis=1)\n",
    "y = train_df_with_rul['RUL']\n",
    "\n",
    "X = sm.add_constant(X)\n",
    "\n",
    "model = sm.OLS(y, X).fit()\n",
    "\n",
    "while True:\n",
    "    max_pvalue = max(model.pvalues)\n",
    "    if max_pvalue > 0.05:\n",
    "        feature_to_remove = model.pvalues.idxmax()\n",
    "        print(f\"Removing feature with highest p-value: {feature_to_remove}\")\n",
    "        X = X.drop(columns=[feature_to_remove])\n",
    "        model = sm.OLS(y, X).fit()\n",
    "    else:\n",
    "        break\n",
    "\n",
    "selected_features = X.columns[1:]\n",
    "\n",
    "print(f\"Selected features: {selected_features}\")"
   ]
  },
  {
   "cell_type": "code",
   "execution_count": 12,
   "metadata": {
    "id": "TlZyFWkpYGE1"
   },
   "outputs": [],
   "source": [
    "X_train = train_df_with_rul[selected_features]\n",
    "y_train = train_df_with_rul['RUL']"
   ]
  },
  {
   "cell_type": "code",
   "execution_count": 13,
   "metadata": {
    "id": "ukrpcm-jYKOT"
   },
   "outputs": [],
   "source": [
    "X_test = test_last_cycle_df[selected_features]\n",
    "y_test = test_last_cycle_df['RUL']"
   ]
  },
  {
   "cell_type": "code",
   "execution_count": 14,
   "metadata": {
    "id": "dlJD4QItYOdk"
   },
   "outputs": [],
   "source": [
    "scaler = MinMaxScaler()\n",
    "\n",
    "X_train_scaled = scaler.fit_transform(X_train)\n",
    "X_test_scaled = scaler.transform(X_test)"
   ]
  },
  {
   "cell_type": "code",
   "execution_count": 15,
   "metadata": {
    "id": "9EyHEb_jznc6"
   },
   "outputs": [],
   "source": [
    "def evaluate_model(model, X, y):\n",
    "    y_pred = model.predict(X)\n",
    "    rmse = int(np.sqrt(mean_squared_error(y, y_pred)))\n",
    "    mae = int(mean_absolute_error(y, y_pred))\n",
    "    r2 = r2_score(y, y_pred)\n",
    "    return rmse, mae, round(r2, 4)"
   ]
  },
  {
   "cell_type": "markdown",
   "metadata": {
    "id": "bI-_QN9E0UC-"
   },
   "source": [
    "# **Model Training**"
   ]
  },
  {
   "cell_type": "code",
   "execution_count": 16,
   "metadata": {
    "colab": {
     "base_uri": "https://localhost:8080/"
    },
    "id": "ZtNbwBr3r7cx",
    "outputId": "300a841d-ee02-4b64-8f01-4a03391543f6"
   },
   "outputs": [
    {
     "name": "stdout",
     "output_type": "stream",
     "text": [
      "Train RMSE: 45, Train MAE: 34, Train R²: 0.5763\n",
      "Test RMSE: 33, Test MAE: 27, Test R²: 0.6014\n"
     ]
    }
   ],
   "source": [
    "model_lr = LinearRegression()\n",
    "model_lr.fit(X_train_scaled, y_train)\n",
    "\n",
    "train_rmse, train_mae, train_r2 = evaluate_model(model_lr, X_train_scaled, y_train)\n",
    "print(f'Train RMSE: {train_rmse}, Train MAE: {train_mae}, Train R²: {train_r2}')\n",
    "\n",
    "test_rmse, test_mae, test_r2 = evaluate_model(model_lr, X_test_scaled, y_test)\n",
    "print(f'Test RMSE: {test_rmse}, Test MAE: {test_mae}, Test R²: {test_r2}')"
   ]
  },
  {
   "cell_type": "code",
   "execution_count": 17,
   "metadata": {
    "colab": {
     "base_uri": "https://localhost:8080/"
    },
    "id": "x9e2ium4Rd2a",
    "outputId": "dbfae867-9d4d-45bd-8f92-e02bbcc90867"
   },
   "outputs": [
    {
     "name": "stdout",
     "output_type": "stream",
     "text": [
      "Train RMSE: 61, Train MAE: 49, Train R²: 0.2131\n",
      "Test RMSE: 45, Test MAE: 38, Test R²: 0.2697\n"
     ]
    }
   ],
   "source": [
    "model_svr = SVR()\n",
    "model_svr.fit(X_train_scaled, y_train)\n",
    "\n",
    "train_rmse, train_mae, train_r2 = evaluate_model(model_svr, X_train_scaled, y_train)\n",
    "print(f'Train RMSE: {train_rmse}, Train MAE: {train_mae}, Train R²: {train_r2}')\n",
    "\n",
    "test_rmse, test_mae, test_r2 = evaluate_model(model_svr, X_test_scaled, y_test)\n",
    "print(f'Test RMSE: {test_rmse}, Test MAE: {test_mae}, Test R²: {test_r2}')"
   ]
  },
  {
   "cell_type": "code",
   "execution_count": 18,
   "metadata": {
    "colab": {
     "base_uri": "https://localhost:8080/"
    },
    "id": "AGuZ0XSYsVfa",
    "outputId": "2e02c6da-d35f-420c-dee2-145afae95978"
   },
   "outputs": [
    {
     "name": "stdout",
     "output_type": "stream",
     "text": [
      "Train RMSE (RF): 16, Train MAE (RF): 11, Train R² (RF): 0.9442\n",
      "Test RMSE (RF): 31, Test MAE (RF): 23, Test R² (RF): 0.65\n"
     ]
    }
   ],
   "source": [
    "model_rf = RandomForestRegressor(random_state=42)\n",
    "model_rf.fit(X_train_scaled, y_train)\n",
    "\n",
    "train_rmse_rf, train_mae_rf, train_r2_rf = evaluate_model(model_rf, X_train_scaled, y_train)\n",
    "print(f'Train RMSE (RF): {train_rmse_rf}, Train MAE (RF): {train_mae_rf}, Train R² (RF): {train_r2_rf}')\n",
    "\n",
    "test_rmse_rf, test_mae_rf, test_r2_rf = evaluate_model(model_rf, X_test_scaled, y_test)\n",
    "print(f'Test RMSE (RF): {test_rmse_rf}, Test MAE (RF): {test_mae_rf}, Test R² (RF): {test_r2_rf}')\n"
   ]
  },
  {
   "cell_type": "code",
   "execution_count": 19,
   "metadata": {
    "colab": {
     "base_uri": "https://localhost:8080/"
    },
    "id": "kYl4vNHrtbNR",
    "outputId": "d96406b3-f84a-47ce-c17f-2dcae9be3c54"
   },
   "outputs": [
    {
     "name": "stdout",
     "output_type": "stream",
     "text": [
      "Train RMSE (XGB): 37, Train MAE (XGB): 27, Train R² (XGB): 0.7056\n",
      "Test RMSE (XGB): 32, Test MAE (XGB): 23, Test R² (XGB): 0.6393\n"
     ]
    }
   ],
   "source": [
    "model_xgb = XGBRegressor(random_state=42)\n",
    "model_xgb.fit(X_train_scaled, y_train)\n",
    "\n",
    "train_rmse_xgb, train_mae_xgb, train_r2_xgb = evaluate_model(model_xgb, X_train_scaled, y_train)\n",
    "print(f'Train RMSE (XGB): {train_rmse_xgb}, Train MAE (XGB): {train_mae_xgb}, Train R² (XGB): {train_r2_xgb}')\n",
    "\n",
    "test_rmse_xgb, test_mae_xgb, test_r2_xgb = evaluate_model(model_xgb, X_test_scaled, y_test)\n",
    "print(f'Test RMSE (XGB): {test_rmse_xgb}, Test MAE (XGB): {test_mae_xgb}, Test R² (XGB): {test_r2_xgb}')"
   ]
  }
 ],
 "metadata": {
  "colab": {
   "provenance": []
  },
  "kernelspec": {
   "display_name": "Python 3 (ipykernel)",
   "language": "python",
   "name": "python3"
  },
  "language_info": {
   "codemirror_mode": {
    "name": "ipython",
    "version": 3
   },
   "file_extension": ".py",
   "mimetype": "text/x-python",
   "name": "python",
   "nbconvert_exporter": "python",
   "pygments_lexer": "ipython3",
   "version": "3.10.12"
  }
 },
 "nbformat": 4,
 "nbformat_minor": 4
}
